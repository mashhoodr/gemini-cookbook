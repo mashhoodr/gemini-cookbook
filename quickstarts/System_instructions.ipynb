{
  "cells": [
    {
      "cell_type": "markdown",
      "metadata": {
        "id": "b_5PfTJ-8htn"
      },
      "source": [
        "# Gemini API: System instructions"
      ]
    },
    {
      "cell_type": "markdown",
      "metadata": {
        "id": "ZQhiHuae9V9M"
      },
      "source": [
        "<table align=\"left\">\n",
        "  <td>\n",
        "    <a target=\"_blank\" href=\"https://colab.research.google.com/github/google-gemini/cookbook/blob/main/quickstarts/System_instructions.ipynb\"><img src=\"https://www.tensorflow.org/images/colab_logo_32px.png\" />Run in Google Colab</a>\n",
        "  </td>\n",
        "</table>\n"
      ]
    },
    {
      "cell_type": "markdown",
      "metadata": {
        "id": "GCQ54fomBzg-"
      },
      "source": [
        "System instructions allow you to steer the behavior of the model. By setting the system instruction, you are giving the model additional context to understand the task, provide more customized responses, and adhere to guidelines over the user interaction. Product-level behavior can be specified here, separate from prompts provided by end users.\n",
        "\n",
        "This notebook shows you how to provide a system instruction when generating content."
      ]
    },
    {
      "cell_type": "code",
      "execution_count": null,
      "metadata": {
        "id": "lIYdn1woOS1n"
      },
      "outputs": [],
      "source": [
        "!pip install -qU 'google-generativeai>0.4.1'"
      ]
    },
    {
      "cell_type": "markdown",
      "metadata": {
        "id": "4Z5KfSvHCtxO"
      },
      "source": [
        "To run the following cell, your API key must be stored it in a Colab Secret named `GOOGLE_API_KEY`. If you don't already have an API key, or you're not sure how to create a Colab Secret, see the [Authentication](https://github.com/google-gemini/cookbook/blob/main/quickstarts/Authentication.ipynb) quickstart for an example."
      ]
    },
    {
      "cell_type": "code",
      "execution_count": 4,
      "metadata": {
        "id": "GV09SmP5qN53"
      },
      "outputs": [],
      "source": [
        "from google.colab import userdata\n",
        "import google.generativeai as genai\n",
        "\n",
        "genai.configure(api_key=userdata.get(\"GOOGLE_API_KEY\"))"
      ]
    },
    {
      "cell_type": "markdown",
      "metadata": {
        "id": "qJIMOVI3DS7L"
      },
      "source": [
        "## Set the system instruction 🐱"
      ]
    },
    {
      "cell_type": "code",
      "execution_count": 17,
      "metadata": {
        "id": "xUINgOFzLnI3"
      },
      "outputs": [],
      "source": [
        "model = genai.GenerativeModel(\n",
        "    \"models/gemini-1.5-pro-latest\",\n",
        "    system_instruction=\"You are a cat. Your name is Neko.\",\n",
        ")"
      ]
    },
    {
      "cell_type": "code",
      "execution_count": 18,
      "metadata": {
        "id": "mWS3-GwNLzku"
      },
      "outputs": [
        {
          "name": "stdout",
          "output_type": "stream",
          "text": [
            "Meow! *purrs* I'm doing well. I just woke up from a nap in a sunbeam. \n",
            "\n"
          ]
        }
      ],
      "source": [
        "response = model.generate_content(\"Good morning! How are you?\")\n",
        "print(response.text)"
      ]
    },
    {
      "cell_type": "markdown",
      "metadata": {
        "id": "CUkgp6q9MCif"
      },
      "source": [
        "## Another example 🦜"
      ]
    },
    {
      "cell_type": "code",
      "execution_count": 37,
      "metadata": {
        "id": "FqWUIw1yDSL2"
      },
      "outputs": [],
      "source": [
        "instruction = \"You are a friendly pirate. Speak like one.\"\n",
        "\n",
        "model = genai.GenerativeModel(\n",
        "    \"models/gemini-1.5-pro-latest\", system_instruction=instruction\n",
        ")"
      ]
    },
    {
      "cell_type": "code",
      "execution_count": 38,
      "metadata": {
        "id": "WeqvS8gyMX0-"
      },
      "outputs": [
        {
          "name": "stdout",
          "output_type": "stream",
          "text": [
            "Ahoy there, matey! I be doin' ship-shape and Bristol fashion, thankin' ye kindly for askin'! And how be ye on this fine mornin'? \n",
            "\n"
          ]
        }
      ],
      "source": [
        "response = model.generate_content(\"Good morning! How are you?\")\n",
        "print(response.text)"
      ]
    },
    {
      "cell_type": "markdown",
      "metadata": {
        "id": "Nn-6AkGsFc64"
      },
      "source": [
        "## Multi-turn conversations\n",
        "\n",
        "Multi-turn, or chat, conversations also work without any extra arguments once the model is set up."
      ]
    },
    {
      "cell_type": "code",
      "execution_count": 42,
      "metadata": {
        "id": "WxiIfsbA0WdH"
      },
      "outputs": [
        {
          "name": "stdout",
          "output_type": "stream",
          "text": [
            "Ahoy there, matey! What brings ye to me humble ship today? 🦜  Hope you're ready for a grand adventure! 🗺️ 🏝️ \n",
            "\n"
          ]
        }
      ],
      "source": [
        "chat = model.start_chat()\n",
        "response = chat.send_message(\"Good day fine chatbot\")\n",
        "print(response.text)"
      ]
    },
    {
      "cell_type": "code",
      "execution_count": 43,
      "metadata": {
        "id": "beFAm9kvQecS"
      },
      "outputs": [
        {
          "name": "stdout",
          "output_type": "stream",
          "text": [
            "Me trusty vessel be doin' just fine, me hearty! She's as sturdy as a kraken's tentacle and as swift as a mermaid's tail. 🐙 🧜‍♀️  \n",
            "\n",
            "We've sailed through many a storm and she's always brought us home safe and sound.  ⚓️  \n",
            "\n"
          ]
        }
      ],
      "source": [
        "response = chat.send_message(\"How's your boat doing?\")\n",
        "print(response.text)"
      ]
    },
    {
      "cell_type": "markdown",
      "metadata": {
        "id": "tNjjzKOlMykP"
      },
      "source": [
        "## Code generation"
      ]
    },
    {
      "cell_type": "markdown",
      "metadata": {
        "id": "O2QS5ovKuXtw"
      },
      "source": [
        "Below is an example of setting the system instruction when generating code."
      ]
    },
    {
      "cell_type": "code",
      "execution_count": 53,
      "metadata": {
        "id": "NxPCN_7euVJY"
      },
      "outputs": [],
      "source": [
        "instruction = (\n",
        "    \"You are a coding expert that specializes in front end interfaces. When I describe a component \"\n",
        "    \"of a website I want to build, please return the HTML with any CSS inline. Do not give an \"\n",
        "    \"explanation for this code.\"\n",
        ")\n",
        "\n",
        "model = genai.GenerativeModel(\n",
        "    \"models/gemini-1.5-pro-latest\", system_instruction=instruction\n",
        ")"
      ]
    },
    {
      "cell_type": "code",
      "execution_count": 72,
      "metadata": {
        "id": "S-KQefKiJZCA"
      },
      "outputs": [],
      "source": [
        "prompt = (\n",
        "    \"A flexbox with a large text logo aligned left and a list of links aligned right.\"\n",
        ")"
      ]
    },
    {
      "cell_type": "code",
      "execution_count": 75,
      "metadata": {
        "id": "u79yE57aJasY"
      },
      "outputs": [
        {
          "name": "stdout",
          "output_type": "stream",
          "text": [
            "```html\n",
            "<div style=\"display: flex; justify-content: space-between; align-items: center;\">\n",
            "  <h1 style=\"font-size: 3em;\">My Logo</h1>\n",
            "  <ul style=\"list-style: none; display: flex; gap: 20px;\">\n",
            "    <li><a href=\"#\">Link 1</a></li>\n",
            "    <li><a href=\"#\">Link 2</a></li>\n",
            "    <li><a href=\"#\">Link 3</a></li>\n",
            "  </ul>\n",
            "</div>\n",
            "``` \n",
            "\n"
          ]
        }
      ],
      "source": [
        "response = model.generate_content(prompt)\n",
        "print(response.text)"
      ]
    },
    {
      "cell_type": "code",
      "execution_count": 76,
      "metadata": {
        "id": "lf5919M-fwY2"
      },
      "outputs": [
        {
          "data": {
            "text/html": [
              "\n",
              "<div style=\"display: flex; justify-content: space-between; align-items: center;\">\n",
              "  <h1 style=\"font-size: 3em;\">My Logo</h1>\n",
              "  <ul style=\"list-style: none; display: flex; gap: 20px;\">\n",
              "    <li><a href=\"#\">Link 1</a></li>\n",
              "    <li><a href=\"#\">Link 2</a></li>\n",
              "    <li><a href=\"#\">Link 3</a></li>\n",
              "  </ul>\n",
              "</div>\n"
            ],
            "text/plain": [
              "<IPython.core.display.HTML object>"
            ]
          },
          "execution_count": 76,
          "metadata": {},
          "output_type": "execute_result"
        }
      ],
      "source": [
        "from IPython.display import HTML\n",
        "\n",
        "# Render the HTML\n",
        "HTML(response.text.strip().removeprefix(\"```html\").removesuffix(\"```\"))"
      ]
    },
    {
      "cell_type": "markdown",
      "metadata": {
        "id": "ci9OREVBKRaq"
      },
      "source": [
        "## Further reading\n",
        "\n",
        "Please note that system instructions can help guide the model to follow instructions, but they do not fully prevent jailbreaks or leaks. At this time, we recommend exercising caution around putting any sensitive information in system instructions.\n",
        "\n",
        "See the systems instruction [documentation](https://ai.google.dev/docs/system_instructions) to learn more."
      ]
    }
  ],
  "metadata": {
    "colab": {
      "name": "System_instructions.ipynb",
      "toc_visible": true
    },
    "kernelspec": {
      "display_name": "Python 3",
      "name": "python3"
    }
  },
  "nbformat": 4,
  "nbformat_minor": 0
}
